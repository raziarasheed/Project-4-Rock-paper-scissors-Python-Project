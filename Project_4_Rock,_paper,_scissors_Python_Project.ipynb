{
  "nbformat": 4,
  "nbformat_minor": 0,
  "metadata": {
    "colab": {
      "provenance": [],
      "authorship_tag": "ABX9TyMd4hDcletck1DHEO8IuC+l",
      "include_colab_link": true
    },
    "kernelspec": {
      "name": "python3",
      "display_name": "Python 3"
    },
    "language_info": {
      "name": "python"
    }
  },
  "cells": [
    {
      "cell_type": "markdown",
      "metadata": {
        "id": "view-in-github",
        "colab_type": "text"
      },
      "source": [
        "<a href=\"https://colab.research.google.com/github/raziarasheed/Project-4-Rock-paper-scissors-Python-Project/blob/main/Project_4_Rock%2C_paper%2C_scissors_Python_Project.ipynb\" target=\"_parent\"><img src=\"https://colab.research.google.com/assets/colab-badge.svg\" alt=\"Open In Colab\"/></a>"
      ]
    },
    {
      "cell_type": "code",
      "execution_count": 1,
      "metadata": {
        "colab": {
          "base_uri": "https://localhost:8080/"
        },
        "id": "SyGOHUjvBC12",
        "outputId": "37774c56-6ce7-4a1f-8401-61bc4e55bd78"
      },
      "outputs": [
        {
          "output_type": "stream",
          "name": "stdout",
          "text": [
            "Welcome to the Rock, Paper, Scissors game!\n",
            "Let's play!\n",
            "Type rock, paper, scissor or Q to quit: rock\n",
            "Computer chose paper.\n",
            "Computer wins!\n",
            "Current score - You: 0, Computer: 1\n",
            "Type rock, paper, scissor or Q to quit: paper\n",
            "Computer chose paper.\n",
            "It is a tie!\n",
            "Current score - You: 0, Computer: 1\n",
            "Type rock, paper, scissor or Q to quit: paper\n",
            "Computer chose paper.\n",
            "It is a tie!\n",
            "Current score - You: 0, Computer: 1\n",
            "Type rock, paper, scissor or Q to quit: scissor\n",
            "Computer chose scissor.\n",
            "It is a tie!\n",
            "Current score - You: 0, Computer: 1\n",
            "Type rock, paper, scissor or Q to quit: q\n",
            "Final score - You: 0, Computer: 1\n",
            "Thanks for playing!\n"
          ]
        }
      ],
      "source": [
        "import random\n",
        "\n",
        "print(\"Welcome to the Rock, Paper, Scissors game!\")\n",
        "choices = [\"rock\", \"paper\", \"scissor\"]\n",
        "user_score = computer_score = 0\n",
        "\n",
        "print(\"Let's play!\")\n",
        "while True:\n",
        "    user_input = input(\"Type rock, paper, scissor or Q to quit: \").lower()\n",
        "\n",
        "    if user_input == 'q':\n",
        "        print(f'Final score - You: {user_score}, Computer: {computer_score}')\n",
        "        print(\"Thanks for playing!\")\n",
        "        break\n",
        "\n",
        "    if user_input not in choices:\n",
        "        print(\"Invalid input, please try again.\")\n",
        "        continue\n",
        "\n",
        "    computer_chose = random.choice(choices)\n",
        "    print(f'Computer chose {computer_chose}.')\n",
        "\n",
        "    if user_input == computer_chose:\n",
        "        print(\"It is a tie!\")\n",
        "    elif (user_input == \"rock\" and computer_chose == \"scissor\") or \\\n",
        "         (user_input == \"paper\" and computer_chose == \"rock\") or \\\n",
        "         (user_input == \"scissor\" and computer_chose == \"paper\"):\n",
        "        print(\"You win!\")\n",
        "        user_score += 1\n",
        "    else:\n",
        "        print(\"Computer wins!\")\n",
        "        computer_score += 1\n",
        "\n",
        "    print(f'Current score - You: {user_score}, Computer: {computer_score}')"
      ]
    }
  ]
}