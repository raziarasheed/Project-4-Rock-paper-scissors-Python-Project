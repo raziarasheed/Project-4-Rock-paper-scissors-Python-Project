{
  "nbformat": 4,
  "nbformat_minor": 0,
  "metadata": {
    "colab": {
      "provenance": [],
      "authorship_tag": "ABX9TyN0slAvg1vC0iWf7D40RYp8",
      "include_colab_link": true
    },
    "kernelspec": {
      "name": "python3",
      "display_name": "Python 3"
    },
    "language_info": {
      "name": "python"
    }
  },
  "cells": [
    {
      "cell_type": "markdown",
      "metadata": {
        "id": "view-in-github",
        "colab_type": "text"
      },
      "source": [
        "<a href=\"https://colab.research.google.com/github/raziarasheed/Project-4-Rock-paper-scissors-Python-Project/blob/main/saylani_practice_sheet_test.ipynb\" target=\"_parent\"><img src=\"https://colab.research.google.com/assets/colab-badge.svg\" alt=\"Open In Colab\"/></a>"
      ]
    },
    {
      "cell_type": "code",
      "execution_count": 61,
      "metadata": {
        "colab": {
          "base_uri": "https://localhost:8080/"
        },
        "id": "uolFQl2AUZZk",
        "outputId": "543af3b0-da84-48c6-af11-4cc15581d3cd"
      },
      "outputs": [
        {
          "output_type": "stream",
          "name": "stdout",
          "text": [
            "Enter the quantity of the products:1\n",
            "Enter the price of each product:5\n",
            "The total cost i: 5.0\n"
          ]
        }
      ],
      "source": [
        "quantity = int(input(\"Enter the quantity of the products:\"))\n",
        "price = float(input(\"Enter the price of each product:\"))\n",
        "quantity_float  = float(quantity)\n",
        "price_int =  int(price)\n",
        "total_cost = quantity_float * price_int\n",
        "print(f\"The total cost i: {total_cost}\")"
      ]
    },
    {
      "cell_type": "markdown",
      "source": [
        "numbers = [10,46,89,60,75,87]\n",
        "numbers.append(60)\n",
        "print(numbers)\n",
        "numbers.pop(2)\n",
        "print(numbers)\n",
        "numbers[-1] =44\n",
        "print(numbers)\n",
        "print(\"reverselist:\",numbers[::-1])"
      ],
      "metadata": {
        "id": "ms_fb_DCbCwX"
      }
    },
    {
      "cell_type": "code",
      "source": [
        "def check_even_odd(numbers):\n",
        "  evenno =[]\n",
        "  oddno =[]\n",
        "  for i in numbers:\n",
        "    if i % 2 == 0:\n",
        "      evenno.append(i)\n",
        "      print(f\"{i} is even no:\")\n",
        "    else:\n",
        "      oddno.append(i)\n",
        "      print(f\"{i} is odd no\")\n",
        "  print(f\"Even numbers:{evenno}\")\n",
        "  print(\"Odd numbers:\",oddno)\n",
        "check_even_odd([2,7,8,3,10,16,30,25,12])"
      ],
      "metadata": {
        "colab": {
          "base_uri": "https://localhost:8080/"
        },
        "id": "xT94fM0H8IcQ",
        "outputId": "47fa70a1-5c68-47d6-fccd-8c5b647d60f2"
      },
      "execution_count": 1,
      "outputs": [
        {
          "output_type": "stream",
          "name": "stdout",
          "text": [
            "2 is even no:\n",
            "7 is odd no\n",
            "8 is even no:\n",
            "3 is odd no\n",
            "10 is even no:\n",
            "16 is even no:\n",
            "30 is even no:\n",
            "25 is odd no\n",
            "12 is even no:\n",
            "Even numbers:[2, 8, 10, 16, 30, 12]\n",
            "Odd numbers: [7, 3, 25]\n"
          ]
        }
      ]
    },
    {
      "cell_type": "code",
      "source": [
        "numbers = [2,7,9,7,6,5]\n",
        "duplicates = []\n",
        "for num in numbers:\n",
        "  if numbers.count(num) >1 and num not  in duplicates:\n",
        "    duplicates.append(num)\n",
        "print(\"duplicated values:\", duplicates)"
      ],
      "metadata": {
        "colab": {
          "base_uri": "https://localhost:8080/"
        },
        "id": "QLLlPos2_EEq",
        "outputId": "207e1f57-dee8-4df9-f6d5-681653c6a540"
      },
      "execution_count": 69,
      "outputs": [
        {
          "output_type": "stream",
          "name": "stdout",
          "text": [
            "duplicated values: [7]\n"
          ]
        }
      ]
    },
    {
      "cell_type": "code",
      "source": [
        "age = int(input(\"Enter the age of the user\"))\n",
        "if age < 18:\n",
        "    print(\"user age is minor\")\n",
        "    if 18<= age <= 60:\n",
        "     print(\"user age is adult\")\n",
        "    else:\n",
        "     print(\"user age is senior citizen\")\n",
        "#else:\n",
        "  # print(\"user age is senior citizen\")"
      ],
      "metadata": {
        "colab": {
          "base_uri": "https://localhost:8080/"
        },
        "id": "SYPr-D9VG-oj",
        "outputId": "5d0806cd-34c4-4fc8-a589-2d72315bc1d4"
      },
      "execution_count": 75,
      "outputs": [
        {
          "output_type": "stream",
          "name": "stdout",
          "text": [
            "Enter the age of the user3\n",
            "user age is minor\n",
            "user age is senior citizen\n"
          ]
        }
      ]
    },
    {
      "cell_type": "code",
      "source": [
        "from pickle import TRUE\n",
        "def collector_numbers():\n",
        "   numbers  = []\n",
        "   while True:\n",
        "        num = int(input(\"Enter the numbers (-1 to stop):\"))\n",
        "        if num == -1:\n",
        "           break\n",
        "   numbers.append(num)\n",
        "   if numbers:\n",
        "    print(\"numbersentered:\",numbers)\n",
        "    print(\"maximum:\",max(numbers))\n",
        "    print(\"minimum:\",min(numbers))\n",
        "   else:\n",
        "    print(\"no numbers entered\")\n",
        "collector_numbers()"
      ],
      "metadata": {
        "colab": {
          "base_uri": "https://localhost:8080/"
        },
        "id": "pCl0F8zJMxA4",
        "outputId": "a7d5af3d-4f41-4a70-baee-2b899e2086f4"
      },
      "execution_count": 87,
      "outputs": [
        {
          "output_type": "stream",
          "name": "stdout",
          "text": [
            "Enter the numbers (-1 to stop):6\n",
            "Enter the numbers (-1 to stop):7\n",
            "Enter the numbers (-1 to stop):0\n",
            "Enter the numbers (-1 to stop):9\n",
            "Enter the numbers (-1 to stop):4\n",
            "Enter the numbers (-1 to stop):-3\n",
            "Enter the numbers (-1 to stop):-1\n",
            "numbersentered: [-1]\n",
            "maximum: -1\n",
            "minimum: -1\n"
          ]
        }
      ]
    },
    {
      "cell_type": "code",
      "source": [
        "def is_multiple_of_7(num):\n",
        "  return num % 7 == 0\n",
        "print(\"is 49 multiple of 7\", is_multiple_of_7(49))\n",
        "print(\"is 12 multiple of 7\", is_multiple_of_7(12))\n",
        "print(\"is 28 multiple of 7\", is_multiple_of_7(28))\n",
        "\n",
        ""
      ],
      "metadata": {
        "colab": {
          "base_uri": "https://localhost:8080/"
        },
        "id": "-WOu8c42ZwYg",
        "outputId": "84b94fef-1665-495f-e62c-9ea8177bd77c"
      },
      "execution_count": 92,
      "outputs": [
        {
          "output_type": "stream",
          "name": "stdout",
          "text": [
            "is 49 multiple of 7 True\n",
            "is 12 multiple of 7 False\n",
            "is 28 multiple of 7 True\n"
          ]
        }
      ]
    },
    {
      "cell_type": "code",
      "source": [
        "number1 =[3,5,8,9,10]\n",
        "number2 =[1,2,3,4,5]\n",
        "print(\"1. add numbers\")\n",
        "print(\"2.subtract numbers\")\n",
        "print(\"3.multiply numbers\")\n",
        "print(\"4.divide numbers\")\n",
        "user_input = int(input(\"Enter the operation to perform:\"))\n",
        "result=[]\n",
        "if user_input == 1:\n",
        "     result=[a+b for a,b in zip(number1,number2)] # we use here list comprehension with loop to perform the function its necessary length is equal and used to perform element to element operation\n",
        "     print(\" result:\",result)\n",
        "elif user_input == 2:\n",
        "     result =[a-b for a,b in zip(number1,number2)]\n",
        "     print(\"result:\",result)\n",
        "elif user_input == 3:\n",
        "        result =[a*b for a,b in zip(number1,number2)]\n",
        "        print(\"result:\",result)\n",
        "elif user_input == 4:\n",
        "        result =[a/b for a,b in zip(number1,number2)]\n",
        "        print(\"result:\",result)\n",
        "else:\n",
        "    print(\"invalid operation\")"
      ],
      "metadata": {
        "colab": {
          "base_uri": "https://localhost:8080/"
        },
        "id": "dY5hzxFgufMM",
        "outputId": "315553b9-24d6-4a0e-84a1-1f53194d369f"
      },
      "execution_count": 22,
      "outputs": [
        {
          "output_type": "stream",
          "name": "stdout",
          "text": [
            "1. add numbers\n",
            "2.subtract numbers\n",
            "3.multiply numbers\n",
            "4.divide numbers\n",
            "Enter the operation to perform:3\n",
            "result: [3, 10, 24, 36, 50]\n"
          ]
        }
      ]
    },
    {
      "cell_type": "code",
      "source": [
        "number1 =[3,5,8,9,10]\n",
        "number2 =[1,2,3,4,5]\n",
        "print(\"1. add numbers\")\n",
        "print(\"2.subtract numbers\")\n",
        "print(\"3.multiply numbers\")\n",
        "print(\"4.divide numbers\")\n",
        "user_input = int(input(\"Enter the operation to perform:\"))\n",
        "result=[]\n",
        "for i in range(len(number1)):#in this case we use for loop with need another way to match elements from both lists by index, like using a loop with index numbers (range and len()).\n",
        "  result.append(number1[i]+number2[i])\n",
        "  if user_input == 1:\n",
        "   print(\"result:\",result)\n",
        "  #result.append(number1[i]-number2[i])\n",
        "  if user_input == 2:\n",
        "    result.append(number1[i]-number2[i])\n",
        "    print(\"result:\",result)\n",
        "  if user_input == 3:\n",
        "    result.append(number1[i]*number2[i])\n",
        "    print(\"result:\",result)\n",
        "  if user_input == 3:\n",
        "    result.append(number1[i]*number2[i])\n",
        "    print(\"result:\",result)\n",
        "  else:\n",
        "    print(\"invalid operation\")\n",
        ""
      ],
      "metadata": {
        "colab": {
          "base_uri": "https://localhost:8080/"
        },
        "id": "aZDgjSem6-3O",
        "outputId": "d7175768-ea37-4f83-df7f-68c74852e814"
      },
      "execution_count": 21,
      "outputs": [
        {
          "output_type": "stream",
          "name": "stdout",
          "text": [
            "1. add numbers\n",
            "2.subtract numbers\n",
            "3.multiply numbers\n",
            "4.divide numbers\n",
            "Enter the operation to perform:2\n",
            "result: [4, 2]\n",
            "invalid operation\n",
            "result: [4, 2, 7, 3]\n",
            "invalid operation\n",
            "result: [4, 2, 7, 3, 11, 5]\n",
            "invalid operation\n",
            "result: [4, 2, 7, 3, 11, 5, 13, 5]\n",
            "invalid operation\n",
            "result: [4, 2, 7, 3, 11, 5, 13, 5, 15, 5]\n",
            "invalid operation\n"
          ]
        }
      ]
    },
    {
      "cell_type": "code",
      "source": [
        "def square_numbers():\n",
        "  number1=[2,3,4,5,6,7,8,9,10]\n",
        "\n",
        "  user_input =int(input(\"Enter the number to square:\"))\n",
        "  result =[x**2 for x in number1]\n",
        "  print(\"result:\",result)\n",
        "square_numbers()\n",
        " # result[number1**x for x in zip(number1,number2)]\n",
        "  #print(\"result:\",result)"
      ],
      "metadata": {
        "colab": {
          "base_uri": "https://localhost:8080/"
        },
        "id": "eog6sHj-N2iN",
        "outputId": "0dac6fbf-1936-4f7e-bb47-a263bd92a9c0"
      },
      "execution_count": 1,
      "outputs": [
        {
          "output_type": "stream",
          "name": "stdout",
          "text": [
            "Enter the number to square:10\n",
            "result: [4, 9, 16, 25, 36, 49, 64, 81, 100]\n"
          ]
        }
      ]
    },
    {
      "cell_type": "code",
      "source": [
        "squares_of_sum= 0\n",
        "for i in range(1,11):\n",
        "  squares_of_sum +=i**2\n",
        "  print(\"sum of squares from numbers 1 to 10:\",squares_of_sum)"
      ],
      "metadata": {
        "colab": {
          "base_uri": "https://localhost:8080/"
        },
        "id": "09MrBaI-RQe2",
        "outputId": "74c89e36-a8a5-4197-9925-606102f73241"
      },
      "execution_count": 30,
      "outputs": [
        {
          "output_type": "stream",
          "name": "stdout",
          "text": [
            "sum of squares from numbers 1 to 10: 1\n",
            "sum of squares from numbers 1 to 10: 5\n",
            "sum of squares from numbers 1 to 10: 14\n",
            "sum of squares from numbers 1 to 10: 30\n",
            "sum of squares from numbers 1 to 10: 55\n",
            "sum of squares from numbers 1 to 10: 91\n",
            "sum of squares from numbers 1 to 10: 140\n",
            "sum of squares from numbers 1 to 10: 204\n",
            "sum of squares from numbers 1 to 10: 285\n",
            "sum of squares from numbers 1 to 10: 385\n"
          ]
        }
      ]
    },
    {
      "cell_type": "code",
      "source": [
        "sentence= input(\"Enter a sentence:\")\n",
        "lower_sentence= sentence.lower()\n",
        "vowels = \"a,e,i,o,u\"\n",
        "vowels_count = 0\n",
        "reversed_sentence= sentence[::-1]\n",
        "print(\"reversed sentence:\",reversed_sentence)\n",
        "for char in lower_sentence:\n",
        "  if char in vowels:\n",
        "    vowels_count +=1\n",
        "print(\"number of vowels:\",vowels_count)\n",
        "print(\"lowercase:\", lower_sentence)"
      ],
      "metadata": {
        "colab": {
          "base_uri": "https://localhost:8080/"
        },
        "id": "l1PRfGAeVQmN",
        "outputId": "b10ee3f1-001d-4618-a8df-40982a0e03b7"
      },
      "execution_count": 34,
      "outputs": [
        {
          "output_type": "stream",
          "name": "stdout",
          "text": [
            "Enter a sentence:hello world\n",
            "reversed sentence: dlrow olleh\n",
            "number of vowels: 3\n",
            "lowercase: hello world\n"
          ]
        }
      ]
    },
    {
      "cell_type": "code",
      "source": [
        "def filter_greater_than5(numbers):\n",
        "  result=[]\n",
        "  for num in numbers:\n",
        "    if num >5:\n",
        "     result.append(num)\n",
        "    return result\n",
        "list1 = [4,6,8,9,0]\n",
        "list2  = [4,8,9,5,8,]\n",
        "list3 = [8,9,6,34,6,5]\n",
        "print(\"numbers of list1:\",filter_greater_than5(list1))\n",
        "print(\"numbers of list2:\",filter_greater_than5(list2))\n",
        "print(\"numbers of list3:\",filter_greater_than5(list3))\n",
        "#filter_greater_than5(numbers)"
      ],
      "metadata": {
        "colab": {
          "base_uri": "https://localhost:8080/"
        },
        "id": "FfhWODA8X2q6",
        "outputId": "dd886b3c-a650-4b11-f570-5b5e1c491386"
      },
      "execution_count": 15,
      "outputs": [
        {
          "output_type": "stream",
          "name": "stdout",
          "text": [
            "numbers of list1: []\n",
            "numbers of list2: []\n",
            "numbers of list3: [8]\n"
          ]
        }
      ]
    },
    {
      "cell_type": "code",
      "source": [
        "def filter_greater_than_5(numbers):\n",
        "  result=[]\n",
        "  for num in numbers:\n",
        "    if num >5 :\n",
        "       result.append(num)\n",
        "  return result\n",
        "list1 = [1, 6, 3, 9, 2]\n",
        "list2 = [10, 4, 5, 7, 8]\n",
        "list3 = [2, 3, 5, 6, 7]\n",
        "\n",
        "print(\"Filtered list1:\", filter_greater_than_five(list1))  # [6, 9]\n",
        "print(\"Filtered list2:\", filter_greater_than_five(list2))  # [10, 7, 8]\n",
        "print(\"Filtered list3:\", filter_greater_than_five(list3))  # [6, 7]\n",
        "\n",
        "print(\"numbers of list1:\",filter_greater_than5(list1))\n",
        "print(\"numbers of list2:\",filter_greater_than5(list2))\n",
        "print(\"numbers of list3:\",filter_greater_than5(list3))\n",
        "#filter_greater_than_5(numbers)"
      ],
      "metadata": {
        "colab": {
          "base_uri": "https://localhost:8080/"
        },
        "id": "B_1XOtuRwUDJ",
        "outputId": "0f33e73a-87b0-4745-ff18-036ede214c4f"
      },
      "execution_count": 31,
      "outputs": [
        {
          "output_type": "stream",
          "name": "stdout",
          "text": [
            "Filtered list1: [6, 9]\n",
            "Filtered list2: [10, 7, 8]\n",
            "Filtered list3: [6, 7]\n",
            "numbers of list1: []\n",
            "numbers of list2: [10]\n",
            "numbers of list3: []\n"
          ]
        }
      ]
    },
    {
      "cell_type": "code",
      "source": [],
      "metadata": {
        "id": "zKhkrAKdzzYl"
      },
      "execution_count": null,
      "outputs": []
    },
    {
      "cell_type": "code",
      "source": [
        "start = int(input(\"Enter no to start for countdown:\"))\n",
        "while start >= 0:\n",
        "  print(start)\n",
        "  start -= 1\n",
        "print(\"blast off!\")"
      ],
      "metadata": {
        "colab": {
          "base_uri": "https://localhost:8080/"
        },
        "id": "fxrqcxmjzzVH",
        "outputId": "99352013-8405-4538-94f6-fcb921d6a1f3"
      },
      "execution_count": 36,
      "outputs": [
        {
          "output_type": "stream",
          "name": "stdout",
          "text": [
            "Enter the no to start for countdown:8\n",
            "8\n",
            "7\n",
            "6\n",
            "5\n",
            "4\n",
            "3\n",
            "2\n",
            "1\n",
            "0\n",
            "blast off!\n"
          ]
        }
      ]
    },
    {
      "cell_type": "code",
      "source": [
        "num1 = float(input(\"Enter the first number:\"))\n",
        "num2 = float(input(\"Enter the second number:\"))\n",
        "num3 = float(input(\"Enter the third number:\"))\n",
        "\n",
        "if num1 >= num2 and num1 >= num3:\n",
        "\n",
        "  print(\"largest number:\",num1)\n",
        "elif num2 >= num1 and num2 >= num3:\n",
        "  print(\"largest number:\",num2)\n",
        "else:\n",
        "  print(\"largest number:\",num3)"
      ],
      "metadata": {
        "colab": {
          "base_uri": "https://localhost:8080/"
        },
        "id": "PD2YyY8x8fxX",
        "outputId": "8034dbc9-2788-4b5b-ffe8-76f84038512e"
      },
      "execution_count": 37,
      "outputs": [
        {
          "output_type": "stream",
          "name": "stdout",
          "text": [
            "Enter the first number:5\n",
            "Enter the second number:7\n",
            "Enter the third number:8\n",
            "largest number: 8.0\n"
          ]
        }
      ]
    },
    {
      "cell_type": "code",
      "source": [
        "word = input(\"enter a word:\")\n",
        "char = input(\"enter a single character to count:\")\n",
        "while len(char) != 1:\n",
        "  char = print(\"enter a single character:\")\n",
        "count = 0\n",
        "word_lower = word.lower()\n",
        "char_lower = char.lower()\n",
        "count = word_lower.count(char_lower)\n",
        "print(f\"The character '{char}' appears {count} time(s) in the word '{word}' (case-insensitive):\")"
      ],
      "metadata": {
        "colab": {
          "base_uri": "https://localhost:8080/"
        },
        "id": "9qyEabSv9u57",
        "outputId": "76e81fff-330f-4ca2-c160-82d80f354210"
      },
      "execution_count": 41,
      "outputs": [
        {
          "output_type": "stream",
          "name": "stdout",
          "text": [
            "enter a word:banana\n",
            "enter a single character to count:a\n",
            "The character 'a' appears 3 time(s) in the word 'banana' (case-insensitive):\n"
          ]
        }
      ]
    },
    {
      "cell_type": "code",
      "source": [
        "# Define the function\n",
        "def create_range_list(start, end):\n",
        "    return list(range(start, end))\n",
        "\n",
        "# Test the function with 3 different ranges\n",
        "list1 = create_range_list(1, 5)\n",
        "list2 = create_range_list(10, 15)\n",
        "list3 = create_range_list(0, 3)\n",
        "\n",
        "# Print the results\n",
        "print(\"Range 1 to 5:\", list1)\n",
        "print(\"Range 10 to 15:\", list2)\n",
        "print(\"Range 0 to 3:\", list3)\n"
      ],
      "metadata": {
        "colab": {
          "base_uri": "https://localhost:8080/"
        },
        "id": "pP9UHMmcBmyC",
        "outputId": "ff353689-f3ad-4693-c0c9-26a9c8bdc118"
      },
      "execution_count": 1,
      "outputs": [
        {
          "output_type": "stream",
          "name": "stdout",
          "text": [
            "Range 1 to 5: [1, 2, 3, 4]\n",
            "Range 10 to 15: [10, 11, 12, 13, 14]\n",
            "Range 0 to 3: [0, 1, 2]\n"
          ]
        }
      ]
    },
    {
      "cell_type": "code",
      "source": [
        "# Ask the user to enter temperature in Celsius\n",
        "celsius = float(input(\"Enter temperature in Celsius: \"))\n",
        "\n",
        "# Convert to Fahrenheit\n",
        "fahrenheit = (celsius * 9/5) + 32\n",
        "\n",
        "# Print the result\n",
        "print(f\"{celsius}°C is equal to {fahrenheit}°F\")\n"
      ],
      "metadata": {
        "colab": {
          "base_uri": "https://localhost:8080/"
        },
        "id": "fLdkXDDNUWBE",
        "outputId": "b4118b93-c02c-49e5-89a1-37a5ea94b29e"
      },
      "execution_count": 2,
      "outputs": [
        {
          "output_type": "stream",
          "name": "stdout",
          "text": [
            "Enter temperature in Celsius: 45\n",
            "45.0°C is equal to 113.0°F\n"
          ]
        }
      ]
    },
    {
      "cell_type": "code",
      "source": [
        "numbers=[]\n",
        "total = int(input(\"Enter the list of integers:\"))\n",
        "for i in range(1,total,1):\n",
        "  numbers.append(input(\"Enter intiger\"))\n",
        "  #print(input(\"Enter intiger\"))\n",
        "  for j in range(0,total,1):\n",
        "    for k in range(j+1,total,1):\n",
        "      if (list[j] > list[k]):\n",
        "       temp = list[j]\n",
        "      list[j] = list[k]\n",
        "      list[k] = temp\n",
        "print(temp)"
      ],
      "metadata": {
        "colab": {
          "base_uri": "https://localhost:8080/",
          "height": 255
        },
        "id": "qOYy4HzeYGd0",
        "outputId": "97b255dd-0e93-4213-d0a4-9ac3afae1ffb"
      },
      "execution_count": 15,
      "outputs": [
        {
          "name": "stdout",
          "output_type": "stream",
          "text": [
            "Enter the list of integers:4\n",
            "Enter intiger6\n"
          ]
        },
        {
          "output_type": "error",
          "ename": "TypeError",
          "evalue": "'>' not supported between instances of 'types.GenericAlias' and 'types.GenericAlias'",
          "traceback": [
            "\u001b[0;31m---------------------------------------------------------------------------\u001b[0m",
            "\u001b[0;31mTypeError\u001b[0m                                 Traceback (most recent call last)",
            "\u001b[0;32m<ipython-input-15-e76d5913346c>\u001b[0m in \u001b[0;36m<cell line: 0>\u001b[0;34m()\u001b[0m\n\u001b[1;32m      6\u001b[0m   \u001b[0;32mfor\u001b[0m \u001b[0mj\u001b[0m \u001b[0;32min\u001b[0m \u001b[0mrange\u001b[0m\u001b[0;34m(\u001b[0m\u001b[0;36m0\u001b[0m\u001b[0;34m,\u001b[0m\u001b[0mtotal\u001b[0m\u001b[0;34m,\u001b[0m\u001b[0;36m1\u001b[0m\u001b[0;34m)\u001b[0m\u001b[0;34m:\u001b[0m\u001b[0;34m\u001b[0m\u001b[0;34m\u001b[0m\u001b[0m\n\u001b[1;32m      7\u001b[0m     \u001b[0;32mfor\u001b[0m \u001b[0mk\u001b[0m \u001b[0;32min\u001b[0m \u001b[0mrange\u001b[0m\u001b[0;34m(\u001b[0m\u001b[0mj\u001b[0m\u001b[0;34m+\u001b[0m\u001b[0;36m1\u001b[0m\u001b[0;34m,\u001b[0m\u001b[0mtotal\u001b[0m\u001b[0;34m,\u001b[0m\u001b[0;36m1\u001b[0m\u001b[0;34m)\u001b[0m\u001b[0;34m:\u001b[0m\u001b[0;34m\u001b[0m\u001b[0;34m\u001b[0m\u001b[0m\n\u001b[0;32m----> 8\u001b[0;31m       \u001b[0;32mif\u001b[0m \u001b[0;34m(\u001b[0m\u001b[0mlist\u001b[0m\u001b[0;34m[\u001b[0m\u001b[0mj\u001b[0m\u001b[0;34m]\u001b[0m \u001b[0;34m>\u001b[0m \u001b[0mlist\u001b[0m\u001b[0;34m[\u001b[0m\u001b[0mk\u001b[0m\u001b[0;34m]\u001b[0m\u001b[0;34m)\u001b[0m\u001b[0;34m:\u001b[0m\u001b[0;34m\u001b[0m\u001b[0;34m\u001b[0m\u001b[0m\n\u001b[0m\u001b[1;32m      9\u001b[0m        \u001b[0mtemp\u001b[0m \u001b[0;34m=\u001b[0m \u001b[0mlist\u001b[0m\u001b[0;34m[\u001b[0m\u001b[0mj\u001b[0m\u001b[0;34m]\u001b[0m\u001b[0;34m\u001b[0m\u001b[0;34m\u001b[0m\u001b[0m\n\u001b[1;32m     10\u001b[0m       \u001b[0mlist\u001b[0m\u001b[0;34m[\u001b[0m\u001b[0mj\u001b[0m\u001b[0;34m]\u001b[0m \u001b[0;34m=\u001b[0m \u001b[0mlist\u001b[0m\u001b[0;34m[\u001b[0m\u001b[0mk\u001b[0m\u001b[0;34m]\u001b[0m\u001b[0;34m\u001b[0m\u001b[0;34m\u001b[0m\u001b[0m\n",
            "\u001b[0;31mTypeError\u001b[0m: '>' not supported between instances of 'types.GenericAlias' and 'types.GenericAlias'"
          ]
        }
      ]
    },
    {
      "cell_type": "code",
      "source": [
        "numbers = []\n",
        "\n",
        "# Ask the user how many numbers they want to enter\n",
        "total = int(input(\"Enter the total number of integers: \"))\n",
        "\n",
        "# Get each number from user and add to the list\n",
        "for i in range(total):\n",
        "    num = int(input(f\"Enter number {i+1}: \"))\n",
        "    numbers.append(num)\n",
        "\n",
        "# Sort the list using a simple selection sort\n",
        "for j in range(len(numbers)):\n",
        "    for k in range(j + 1, len(numbers)):\n",
        "        if numbers[j] > numbers[k]:\n",
        "            # Swap\n",
        "            temp = numbers[j]\n",
        "            numbers[j] = numbers[k]\n",
        "            numbers[k] = temp\n",
        "\n",
        "# Print the sorted list\n",
        "print(\"Sorted list:\", numbers)\n"
      ],
      "metadata": {
        "colab": {
          "base_uri": "https://localhost:8080/"
        },
        "id": "bDIK2s19dC1y",
        "outputId": "243a4266-e3f5-40f4-8e7f-e8f1e7e64743"
      },
      "execution_count": 13,
      "outputs": [
        {
          "output_type": "stream",
          "name": "stdout",
          "text": [
            "Enter the total number of integers: 4\n",
            "Enter number 1: 4\n",
            "Enter number 2: 6\n",
            "Enter number 3: 6\n",
            "Enter number 4: 7\n",
            "Sorted list: [4, 6, 6, 7]\n"
          ]
        }
      ]
    },
    {
      "cell_type": "code",
      "source": [
        "list1 = [2,7,9,8,7,6,8,6]\n",
        "userinputnumber = int(input(\"Enter the no\"))\n",
        "def number(userinputnumber,list1):\n",
        "  if (userinputnumber in list1):\n",
        "   index=list1.index(userinputnumber)\n",
        "   print(index)\n",
        "   print(f\"number exist\", {userinputnumber}, \"at index\",{index})\n",
        "  else:\n",
        "\n",
        "    print(\"number not found\")\n",
        "number(userinputnumber,list1)"
      ],
      "metadata": {
        "colab": {
          "base_uri": "https://localhost:8080/"
        },
        "id": "Zt8WZvIjjEvT",
        "outputId": "e24736d7-167f-4c4a-9c34-9ee7f3877366"
      },
      "execution_count": 36,
      "outputs": [
        {
          "output_type": "stream",
          "name": "stdout",
          "text": [
            "Enter the no9\n",
            "2\n",
            "number exist {9} at index {2}\n"
          ]
        }
      ]
    }
  ]
}